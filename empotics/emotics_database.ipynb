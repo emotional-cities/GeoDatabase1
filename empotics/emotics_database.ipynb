{
 "cells": [
  {
   "cell_type": "code",
   "execution_count": 21,
   "metadata": {},
   "outputs": [],
   "source": [
    "import mysql.connector\n",
    "import pandas as pd\n",
    "db=mysql.connector.connect(\n",
    "    host=\"climateflux.com\",\n",
    "    user=\"bishoykaleny\",\n",
    "    passwd=\"01280408351\",\n",
    "    database=\"emocities\"\n",
    ")\n",
    "mycursor=db.cursor()\n",
    "mycursor.execute(\"CREATE TABLE metadata_emotics (LayerName VARCHAR(50),Thresholds VARCHAR(255),Colors VARCHAR(255),Indexes VARCHAR(255),Vmin FLOAT,Vmax FLOAT,City VARCHAR(50),Caption VARCHAR(100))\")"
   ]
  },
  {
   "cell_type": "code",
   "execution_count": 20,
   "metadata": {},
   "outputs": [],
   "source": [
    "import mysql.connector\n",
    "import pandas as pd\n",
    "db=mysql.connector.connect(\n",
    "    host=\"climateflux.com\",\n",
    "    user=\"bishoykaleny\",\n",
    "    passwd=\"01280408351\",\n",
    "    database=\"emocities\"\n",
    ")\n",
    "mycursor=db.cursor()\n",
    "mycursor.execute(\"DROP TABLE metadata_emotics\")"
   ]
  },
  {
   "cell_type": "code",
   "execution_count": 17,
   "metadata": {},
   "outputs": [],
   "source": [
    "#hex350_grid_ndvi2022\n",
    "db=mysql.connector.connect(\n",
    "    host=\"climateflux.com\",\n",
    "    user=\"bishoykaleny\",\n",
    "    passwd=\"01280408351\",\n",
    "    database=\"climate_walk\"\n",
    ")\n",
    "mycursor=db.cursor()\n",
    "mycursor.execute(\"INSERT INTO metadata_emotics (LayerName, Thresholds, Colors, Indexes, Vmin, Vmax, Caption) VALUES ('hex350_grid_ndvi2022', '[0.1, 0.2, 0.4, 0.6]', '[#A2FF9E, #60C957, #008000, #004D00]', '[0.10, 0.24, 0.42, 0.60, 0.78]', 0.10, 0.78, 'Normalized Difference Vegetation Index (NDVI > 0.1)')\")\n",
    "db.commit()"
   ]
  },
  {
   "cell_type": "code",
   "execution_count": null,
   "metadata": {},
   "outputs": [],
   "source": [
    "#hex350_grid_ndvi2022\n",
    "db=mysql.connector.connect(\n",
    "    host=\"climateflux.com\",\n",
    "    user=\"bishoykaleny\",\n",
    "    passwd=\"01280408351\",\n",
    "    database=\"climate_walk\"\n",
    ")\n",
    "mycursor=db.cursor()\n",
    "mycursor.execute(\"INSERT INTO metadata_emotics (LayerName, Thresholds, Colors, Indexes, Vmin, Vmax, Caption) VALUES ('hex350_grid_ndvi2022', '[0.1, 0.2, 0.4, 0.6]', '[#A2FF9E, #60C957, #008000, #004D00]', '[0.10, 0.24, 0.42, 0.60, 0.78]', 0.10, 0.78, 'Normalized Difference Vegetation Index (NDVI > 0.1)')\")\n",
    "db.commit()"
   ]
  },
  {
   "cell_type": "code",
   "execution_count": 12,
   "metadata": {},
   "outputs": [],
   "source": [
    "def create_layer(query):\n",
    "    db=mysql.connector.connect(\n",
    "        host=\"climateflux.com\",\n",
    "        user=\"bishoykaleny\",\n",
    "        passwd=\"01280408351\",\n",
    "        database=\"climate_walk\"\n",
    "    )\n",
    "    mycursor=db.cursor()\n",
    "    mycursor.execute(query)\n",
    "    db.commit()\n",
    "    "
   ]
  },
  {
   "cell_type": "code",
   "execution_count": 13,
   "metadata": {},
   "outputs": [],
   "source": [
    "create_layer(\"INSERT INTO metadata_emotics (LayerName, Thresholds, Colors, Indexes, Vmin, Vmax, City, Caption)VALUES ('hex350_grid_pm10_2019', '[2.71, 9.21, 15.70, 22.20, 28.70, 35.19]', '[#FFFFFF, #E6F5FF, #B2D4FF, #8A7FFF, #9370DB, #660099]', '[2.71, 9.21, 15.70, 22.20, 28.70, 35.19]', 2.71, 35.19, 'London', 'PM10 (μg/m³)(> 2.71)')\")\n",
    "\n",
    "create_layer(\"INSERT INTO metadata_emotics (LayerName, Thresholds, Colors, Indexes, Vmin, Vmax, City, Caption) VALUES ('hex350_grid_no2_2019', '[20, 25, 30, 35, 40, 45]', '[#FFFFFF, #E6F5FF, #B2D4FF, #8A7FFF, #9370DB, #660099]', '[20, 25, 30, 35, 40, 45]', 20, 45, 'London', 'NO2 (μg/m³)')\")\n",
    "\n",
    "create_layer(\"INSERT INTO metadata_emotics (LayerName, Thresholds, Colors, Indexes, Vmin, Vmax, City, Caption) VALUES ('hex350_grid_ndvi2022', '[0.1, 0.2, 0.4, 0.6]', '[#FFFFFF,#A2FF9E, #60C957, #008000, #004D00]', '[0.10, 0.24, 0.42, 0.60, 0.78]', 0.10, 0.78, 'London', 'Normalized Difference Vegetation Index (NDVI > 0.1)')\")\n",
    "\n",
    "create_layer(\"INSERT INTO metadata_emotics (LayerName, Thresholds, Colors, Indexes, Vmin, Vmax, City, Caption)VALUES ('hex350_grid_laeq16h', '[55, 60, 65, 70, NULL]', '[#FFFFFF, #FFFFCC, #FFCC99, #FF9933, #FF6633]', '[55, 60, 65, 70, NULL]', 55, 70, 'London', 'Noise levels (dB)(> 55)')\")\n",
    "\n",
    "create_layer(\"INSERT INTO metadata_emotics (LayerName, Thresholds, Colors, Indexes, Vmin, Vmax, City, Caption) VALUES ('hex350_grid_avglst', '[24.16, 26.68, 29.20, 31.72, 34.24, 36.76]', '[#FFFFFF, #0066CC, #ADD8E6, #FFFF99, #FFA500, #FF0000]', '[24.16, 26.68, 29.20, 31.72, 34.24, 36.76]', 24.16, 36.76, 'London', 'Mean daytime surface temperature (in °C)(> 24.16)')\")\n",
    "\n",
    "create_layer(\"INSERT INTO metadata_emotics (LayerName, Thresholds, Colors, Indexes, Vmin, Vmax, City, Caption) VALUES ('hex350_grid_cycleroutes2021', '[294.6, 683.9, 1073.3, 1462.6, 1852, 2241.4, 2630.7]', '[#FFFFFF, #FFF5F5, #ADD8E6, #66A3FF, #00BFA5, #008080, #004D00]', '[294.6, 683.9, 1073.3, 1462.6, 1852, 2241.4, 2630.7]', 294.6, 2630.7, 'London', 'Length of cycling routes per sq.km (meter)(> 294.6)')\")\n",
    "\n",
    "create_layer(\"INSERT INTO metadata_emotics (LayerName, Thresholds, Colors, Indexes, Vmin, Vmax, City, Caption)VALUES ('hex350_grid_hindex2020', '[1.82, 1.88, 1.95, 2.01, 2.08, 2.14]', '[#FFFFFF, #E6F5FF, #B2D4FF, #8A7FFF, #9370DB, #660099]', '[1.82, 1.88, 1.95, 2.01, 2.08, 2.14]', 1.82, 2.14, 'London', 'Land use (Normalized Difference Vegetation Index)')\")\n",
    "\n",
    "create_layer(\"INSERT INTO metadata_emotics (LayerName, Thresholds, Colors, Indexes, Vmin, Vmax, City, Caption) VALUES ('hex350_grid_access2openspace', '[0, 0.2, 0.4, 0.6, 0.8, 1]', '[#FFFF99, #90EE90, #7FFF00, #008000, #003300]', '[0, 0.2, 0.4, 0.6, 0.8, 1]', 0, 1, 'London', 'Proportion of population with access to public open space')\")\n",
    "\n",
    "create_layer(\"INSERT INTO metadata_emotics (LayerName, Thresholds, Colors, Indexes, Vmin, Vmax, City, Caption) VALUES ('hex350_grid_cardio_1920', '[0.1573, 0.8264, 1.4956, 2.1648, 2.8339, 3.5031]', '[#FFFFFF, #FFFF99, #FF6347, #AA33AA, #4B0082, #000000]', '[0.1573, 0.8264, 1.4956, 2.1648, 2.8339, 3.5031]', 0.1573, 3.5031, 'London', 'Prevalence rates of cardiovascular diseases')\")\n",
    "\n",
    "create_layer(\"INSERT INTO metadata_emotics (LayerName, Thresholds, Colors, Indexes, Vmin, Vmax, City, Caption) VALUES ('hex350_grid_obesity_1920', '[1.1, 4.3, 7.5, 10.7, 14, 17.2]', '[#FFFFFF, #FFFF99, #FF6347, #AA33AA, #4B0082, #000000]', '[1.1, 4.3, 7.5, 10.7, 14, 17.2]', 1.1, 17.2, 'London', 'Prevalence rates of obesity')\")\n",
    "\n",
    "create_layer(\"INSERT INTO metadata_emotics (LayerName, Thresholds, Colors, Indexes, Vmin, Vmax, City, Caption) VALUES ('hex350_grid_depression_1920', '[1.9, 4.3, 6.7, 9.2, 11.6, 14.1]', '[#FFFFFF, #CCFFCC, #20B2AA, #007F92, #20002C, #000000]', '[1.9, 4.3, 6.7, 9.2, 11.6, 14.1]', 1.9, 14.1, 'London', 'Prevalence rates of depression')\")\n",
    "\n",
    "create_layer(\"INSERT INTO metadata_emotics (LayerName, Thresholds, Colors, Indexes, Vmin, Vmax, City, Caption) VALUES ('hex350_grid_mental_1920', '[0.26, 0.75, 1.23, 1.71, 2.2, 2.68]', '[#FFFFFF, #CCFFCC, #20B2AA, #007F92, #20002C, #000000]', '[0.26, 0.75, 1.23, 1.71, 2.2, 2.68]', 0.26, 2.68, 'London', 'Prevalence rates of mental health issues')\")\n",
    "\n",
    "create_layer(\"INSERT INTO metadata_emotics (LayerName, Thresholds, Colors, Indexes, Vmin, Vmax, City, Caption) VALUES ('hex350_grid_demantia_1920', '[0.06, 0.53, 1, 1.48, 1.95, 2.42]', '[#FFFFFF, #CCFFCC, #20B2AA, #007F92, #20002C, #000000]', '[0.06, 0.53, 1, 1.48, 1.95, 2.42]', 0.06, 2.42, 'London', 'Prevalence rates of dementia')\")\n",
    "\n",
    "create_layer(\"INSERT INTO metadata_emotics (LayerName, Thresholds, Colors, Indexes, Vmin, Vmax, City, Caption) VALUES ('hex350_grid_popden_2020', '[439, 14016, 27592, 41169, 54745]', '[#FFFFFF, #FFFF99, #FF6347, #AA33AA, #4B0082, #000000]', '[439, 14016, 27592, 41169, 54745]', 439, 54745, 'London', 'Population density (per sq km)')\")\n",
    "\n",
    "create_layer(\"INSERT INTO metadata_emotics (LayerName, Thresholds, Colors, Indexes, Vmin, Vmax, City, Caption) VALUES ('hex350_grid_gender2020', '[73.68, 82.45, 91.23, 100, 108.77, 117.55, 236.81]', '[#FFFFFF, #FF0000, #FF6666, #FFCCCC, #CCDDFF, #87CEEB, #0000CD]', '[73.68, 82.45, 91.23, 100, 108.77, 117.55, 236.81]', 73.68, 236.81, 'London', 'Number of males per 100 females')\")\n",
    "\n",
    "create_layer(\"INSERT INTO metadata_emotics (LayerName, Thresholds, Colors, Indexes, Vmin, Vmax, City, Caption) VALUES ('hex350_grid_age2020', '[0.01, 0.09, 0.17, 0.25, 0.33, 0.40]', '[#FFFFFF, #FFFF99, #D2B48C, #808080, #36454F, #000022]', '[0.01, 0.09, 0.17, 0.25, 0.33, 0.40]', 0.01, 0.40, 'London', 'Ratio of people over 65 years old')\")\n",
    "\n",
    "create_layer(\"INSERT INTO metadata_emotics (LayerName, Thresholds, Colors, Indexes, Vmin, Vmax, City, Caption) VALUES ('hex350_grid_active2020', '[62.60, 67.12, 71.64, 76.16, 80.68]', '[#FFFFFF, #F5F5F5, #BFEFFF, #87CEEB, #6495ED, #0000CD]', '[62.60, 67.12, 71.64, 76.16, 80.68]', 62.60, 80.68, 'London', 'Ratio of active people')\")\n",
    "\n",
    "create_layer(\"INSERT INTO metadata_emotics (LayerName, Thresholds, Colors, Indexes, Vmin, Vmax, City, Caption) VALUES ('hex350_grid_crime_22', '[1, 11, 21, 31, 41, 51, 61, 71, 81, 91, 101]', '[#FFFFFF, #FFFFE0, #FFD39B, #FF7F50, #FF6347, #800080, #6A0DAD, #371F8F, #6495ED, #000033, #000000]', '[1, 11, 21, 31, 41, 51, 61, 71, 81, 91, 101]', 1, 101, 'London', 'Crime')\")"
   ]
  },
  {
   "cell_type": "code",
   "execution_count": 14,
   "metadata": {},
   "outputs": [
    {
     "ename": "SyntaxError",
     "evalue": "unterminated string literal (detected at line 1) (1759940586.py, line 1)",
     "output_type": "error",
     "traceback": [
      "\u001b[1;36m  Cell \u001b[1;32mIn [14], line 1\u001b[1;36m\u001b[0m\n\u001b[1;33m    create_layer(\"INSERT INTO Metadata (LayerName, Thresholds, Colors, Indexes, Vmin, Vmax, Caption) VALUES ('hex350_grid_no2_2019', '[20, 25, 30, 35, 40, 45]', '[#FFFFFF, #E6F5FF, #B2D4FF, #8A7FFF, #9370DB, #660099]\", '[20, 25, 30, 35, 40, 45]', 20, 45, 'NO2 (μg/m³)')\")\u001b[0m\n\u001b[1;37m                                                                                                                                                                                                                                                                             ^\u001b[0m\n\u001b[1;31mSyntaxError\u001b[0m\u001b[1;31m:\u001b[0m unterminated string literal (detected at line 1)\n"
     ]
    }
   ],
   "source": []
  },
  {
   "cell_type": "code",
   "execution_count": 11,
   "metadata": {},
   "outputs": [
    {
     "name": "stderr",
     "output_type": "stream",
     "text": [
      "C:\\Users\\Bishoy\\AppData\\Local\\Temp\\ipykernel_23628\\557401031.py:12: UserWarning: pandas only supports SQLAlchemy connectable (engine/connection) or database string URI or sqlite3 DBAPI2 connection. Other DBAPI2 objects are not tested. Please consider using SQLAlchemy.\n",
      "  df=pd.read_sql(query,db)\n"
     ]
    },
    {
     "data": {
      "text/plain": [
       "['[#FFFFFF, #E6F5FF, #B2D4FF, #8A7FFF, #9370DB, #660099]',\n",
       " '[#FFFFFF, #E6F5FF, #B2D4FF, #8A7FFF, #9370DB, #660099]']"
      ]
     },
     "execution_count": 11,
     "metadata": {},
     "output_type": "execute_result"
    }
   ],
   "source": [
    "import mysql.connector\n",
    "import pandas as pd\n",
    "db=mysql.connector.connect(\n",
    "    host=\"climateflux.com\",\n",
    "    user=\"bishoykaleny\",\n",
    "    passwd=\"01280408351\",\n",
    "    database=\"climate_walk\"\n",
    ")\n",
    "mycursor=db.cursor()\n",
    "layer='hex350_grid_pm10_2019'\n",
    "query=f\"select Colors from metadata_emotics where Layername = '{layer}'\"\n",
    "df=pd.read_sql(query,db)\n",
    "df['Colors'].to_list()"
   ]
  },
  {
   "cell_type": "code",
   "execution_count": 10,
   "metadata": {},
   "outputs": [
    {
     "name": "stdout",
     "output_type": "stream",
     "text": [
      "None\n"
     ]
    },
    {
     "name": "stderr",
     "output_type": "stream",
     "text": [
      "C:\\Users\\Bishoy\\AppData\\Local\\Temp\\ipykernel_23628\\3521707615.py:13: UserWarning: pandas only supports SQLAlchemy connectable (engine/connection) or database string URI or sqlite3 DBAPI2 connection. Other DBAPI2 objects are not tested. Please consider using SQLAlchemy.\n",
      "  df=pd.read_sql(query,db)\n"
     ]
    },
    {
     "ename": "InternalError",
     "evalue": "Unread result found",
     "output_type": "error",
     "traceback": [
      "\u001b[1;31m---------------------------------------------------------------------------\u001b[0m",
      "\u001b[1;31mInternalError\u001b[0m                             Traceback (most recent call last)",
      "Cell \u001b[1;32mIn [10], line 13\u001b[0m\n\u001b[0;32m     11\u001b[0m alles\u001b[39m=\u001b[39mmycursor\u001b[39m.\u001b[39mexecute(\u001b[39m\"\u001b[39m\u001b[39mSELECT LayerName FROM metadata_emotics\u001b[39m\u001b[39m\"\u001b[39m)\n\u001b[0;32m     12\u001b[0m \u001b[39mprint\u001b[39m(alles)\n\u001b[1;32m---> 13\u001b[0m df\u001b[39m=\u001b[39mpd\u001b[39m.\u001b[39;49mread_sql(query,db)\n\u001b[0;32m     14\u001b[0m df\n",
      "File \u001b[1;32m~\\AppData\\Local\\Packages\\PythonSoftwareFoundation.Python.3.10_qbz5n2kfra8p0\\LocalCache\\local-packages\\Python310\\site-packages\\pandas\\io\\sql.py:564\u001b[0m, in \u001b[0;36mread_sql\u001b[1;34m(sql, con, index_col, coerce_float, params, parse_dates, columns, chunksize)\u001b[0m\n\u001b[0;32m    561\u001b[0m pandas_sql \u001b[39m=\u001b[39m pandasSQL_builder(con)\n\u001b[0;32m    563\u001b[0m \u001b[39mif\u001b[39;00m \u001b[39misinstance\u001b[39m(pandas_sql, SQLiteDatabase):\n\u001b[1;32m--> 564\u001b[0m     \u001b[39mreturn\u001b[39;00m pandas_sql\u001b[39m.\u001b[39;49mread_query(\n\u001b[0;32m    565\u001b[0m         sql,\n\u001b[0;32m    566\u001b[0m         index_col\u001b[39m=\u001b[39;49mindex_col,\n\u001b[0;32m    567\u001b[0m         params\u001b[39m=\u001b[39;49mparams,\n\u001b[0;32m    568\u001b[0m         coerce_float\u001b[39m=\u001b[39;49mcoerce_float,\n\u001b[0;32m    569\u001b[0m         parse_dates\u001b[39m=\u001b[39;49mparse_dates,\n\u001b[0;32m    570\u001b[0m         chunksize\u001b[39m=\u001b[39;49mchunksize,\n\u001b[0;32m    571\u001b[0m     )\n\u001b[0;32m    573\u001b[0m \u001b[39mtry\u001b[39;00m:\n\u001b[0;32m    574\u001b[0m     _is_table_name \u001b[39m=\u001b[39m pandas_sql\u001b[39m.\u001b[39mhas_table(sql)\n",
      "File \u001b[1;32m~\\AppData\\Local\\Packages\\PythonSoftwareFoundation.Python.3.10_qbz5n2kfra8p0\\LocalCache\\local-packages\\Python310\\site-packages\\pandas\\io\\sql.py:2078\u001b[0m, in \u001b[0;36mSQLiteDatabase.read_query\u001b[1;34m(self, sql, index_col, coerce_float, params, parse_dates, chunksize, dtype)\u001b[0m\n\u001b[0;32m   2066\u001b[0m \u001b[39mdef\u001b[39;00m \u001b[39mread_query\u001b[39m(\n\u001b[0;32m   2067\u001b[0m     \u001b[39mself\u001b[39m,\n\u001b[0;32m   2068\u001b[0m     sql,\n\u001b[1;32m   (...)\u001b[0m\n\u001b[0;32m   2074\u001b[0m     dtype: DtypeArg \u001b[39m|\u001b[39m \u001b[39mNone\u001b[39;00m \u001b[39m=\u001b[39m \u001b[39mNone\u001b[39;00m,\n\u001b[0;32m   2075\u001b[0m ) \u001b[39m-\u001b[39m\u001b[39m>\u001b[39m DataFrame \u001b[39m|\u001b[39m Iterator[DataFrame]:\n\u001b[0;32m   2077\u001b[0m     args \u001b[39m=\u001b[39m _convert_params(sql, params)\n\u001b[1;32m-> 2078\u001b[0m     cursor \u001b[39m=\u001b[39m \u001b[39mself\u001b[39;49m\u001b[39m.\u001b[39;49mexecute(\u001b[39m*\u001b[39;49margs)\n\u001b[0;32m   2079\u001b[0m     columns \u001b[39m=\u001b[39m [col_desc[\u001b[39m0\u001b[39m] \u001b[39mfor\u001b[39;00m col_desc \u001b[39min\u001b[39;00m cursor\u001b[39m.\u001b[39mdescription]\n\u001b[0;32m   2081\u001b[0m     \u001b[39mif\u001b[39;00m chunksize \u001b[39mis\u001b[39;00m \u001b[39mnot\u001b[39;00m \u001b[39mNone\u001b[39;00m:\n",
      "File \u001b[1;32m~\\AppData\\Local\\Packages\\PythonSoftwareFoundation.Python.3.10_qbz5n2kfra8p0\\LocalCache\\local-packages\\Python310\\site-packages\\pandas\\io\\sql.py:2016\u001b[0m, in \u001b[0;36mSQLiteDatabase.execute\u001b[1;34m(self, *args, **kwargs)\u001b[0m\n\u001b[0;32m   2015\u001b[0m \u001b[39mdef\u001b[39;00m \u001b[39mexecute\u001b[39m(\u001b[39mself\u001b[39m, \u001b[39m*\u001b[39margs, \u001b[39m*\u001b[39m\u001b[39m*\u001b[39mkwargs):\n\u001b[1;32m-> 2016\u001b[0m     cur \u001b[39m=\u001b[39m \u001b[39mself\u001b[39;49m\u001b[39m.\u001b[39;49mcon\u001b[39m.\u001b[39;49mcursor()\n\u001b[0;32m   2017\u001b[0m     \u001b[39mtry\u001b[39;00m:\n\u001b[0;32m   2018\u001b[0m         cur\u001b[39m.\u001b[39mexecute(\u001b[39m*\u001b[39margs, \u001b[39m*\u001b[39m\u001b[39m*\u001b[39mkwargs)\n",
      "File \u001b[1;32m~\\AppData\\Local\\Packages\\PythonSoftwareFoundation.Python.3.10_qbz5n2kfra8p0\\LocalCache\\local-packages\\Python310\\site-packages\\mysql\\connector\\connection.py:806\u001b[0m, in \u001b[0;36mMySQLConnection.cursor\u001b[1;34m(self, buffered, raw, prepared, cursor_class, dictionary, named_tuple)\u001b[0m\n\u001b[0;32m    785\u001b[0m \u001b[39mdef\u001b[39;00m \u001b[39mcursor\u001b[39m(\u001b[39mself\u001b[39m, buffered\u001b[39m=\u001b[39m\u001b[39mNone\u001b[39;00m, raw\u001b[39m=\u001b[39m\u001b[39mNone\u001b[39;00m, prepared\u001b[39m=\u001b[39m\u001b[39mNone\u001b[39;00m, cursor_class\u001b[39m=\u001b[39m\u001b[39mNone\u001b[39;00m,\n\u001b[0;32m    786\u001b[0m            dictionary\u001b[39m=\u001b[39m\u001b[39mNone\u001b[39;00m, named_tuple\u001b[39m=\u001b[39m\u001b[39mNone\u001b[39;00m):\n\u001b[0;32m    787\u001b[0m     \u001b[39m\"\"\"Instantiates and returns a cursor\u001b[39;00m\n\u001b[0;32m    788\u001b[0m \n\u001b[0;32m    789\u001b[0m \u001b[39m    By default, MySQLCursor is returned. Depending on the options\u001b[39;00m\n\u001b[1;32m   (...)\u001b[0m\n\u001b[0;32m    804\u001b[0m \u001b[39m    Returns a cursor-object\u001b[39;00m\n\u001b[0;32m    805\u001b[0m \u001b[39m    \"\"\"\u001b[39;00m\n\u001b[1;32m--> 806\u001b[0m     \u001b[39mself\u001b[39;49m\u001b[39m.\u001b[39;49mhandle_unread_result()\n\u001b[0;32m    808\u001b[0m     \u001b[39mif\u001b[39;00m \u001b[39mnot\u001b[39;00m \u001b[39mself\u001b[39m\u001b[39m.\u001b[39mis_connected():\n\u001b[0;32m    809\u001b[0m         \u001b[39mraise\u001b[39;00m errors\u001b[39m.\u001b[39mOperationalError(\u001b[39m\"\u001b[39m\u001b[39mMySQL Connection not available.\u001b[39m\u001b[39m\"\u001b[39m)\n",
      "File \u001b[1;32m~\\AppData\\Local\\Packages\\PythonSoftwareFoundation.Python.3.10_qbz5n2kfra8p0\\LocalCache\\local-packages\\Python310\\site-packages\\mysql\\connector\\connection.py:1059\u001b[0m, in \u001b[0;36mMySQLConnection.handle_unread_result\u001b[1;34m(self)\u001b[0m\n\u001b[0;32m   1057\u001b[0m     \u001b[39mself\u001b[39m\u001b[39m.\u001b[39mconsume_results()\n\u001b[0;32m   1058\u001b[0m \u001b[39melif\u001b[39;00m \u001b[39mself\u001b[39m\u001b[39m.\u001b[39munread_result:\n\u001b[1;32m-> 1059\u001b[0m     \u001b[39mraise\u001b[39;00m errors\u001b[39m.\u001b[39mInternalError(\u001b[39m\"\u001b[39m\u001b[39mUnread result found\u001b[39m\u001b[39m\"\u001b[39m)\n",
      "\u001b[1;31mInternalError\u001b[0m: Unread result found"
     ]
    }
   ],
   "source": [
    "import mysql.connector\n",
    "import pandas as pd\n",
    "db=mysql.connector.connect(\n",
    "    host=\"climateflux.com\",\n",
    "    user=\"bishoykaleny\",\n",
    "    passwd=\"01280408351\",\n",
    "    database=\"climate_walk\"\n",
    ")\n",
    "mycursor=db.cursor()\n",
    "query=\"SELECT * FROM metadata_emotics\"\n",
    "alles=mycursor.execute(\"SELECT LayerName FROM metadata_emotics\")\n",
    "print(alles)\n",
    "df=pd.read_sql(query,db)\n",
    "df\n",
    "#colors=mycursor.execute(\"SELECT Vmin FROM metadata_emotics WHERE LayerName='hex350_grid_ndvi2022'\")\n",
    "#print(colors)"
   ]
  },
  {
   "cell_type": "code",
   "execution_count": 25,
   "metadata": {},
   "outputs": [
    {
     "name": "stdout",
     "output_type": "stream",
     "text": [
      "['FFFFFF', 'E6F5FF', 'B2D4FF', '8A7FFF', '9370DB', '660099']\n",
      "0 FFFFFF\n",
      "1 E6F5FF\n"
     ]
    },
    {
     "ename": "ValueError",
     "evalue": "could not convert string to float: 'E6F5FF'",
     "output_type": "error",
     "traceback": [
      "\u001b[1;31m---------------------------------------------------------------------------\u001b[0m",
      "\u001b[1;31mValueError\u001b[0m                                Traceback (most recent call last)",
      "Cell \u001b[1;32mIn [25], line 24\u001b[0m\n\u001b[0;32m     20\u001b[0m     \u001b[39mreturn\u001b[39;00m colors, thresholds\n\u001b[0;32m     22\u001b[0m a\u001b[39m=\u001b[39m\u001b[39m\"\u001b[39m\u001b[39mcolor_pm25 = lambda x: \u001b[39m\u001b[39m{\u001b[39m\u001b[39m'\u001b[39m\u001b[39mfillColor\u001b[39m\u001b[39m'\u001b[39m\u001b[39m: \u001b[39m\u001b[39m'\u001b[39m\u001b[39m#FFFFFF\u001b[39m\u001b[39m'\u001b[39m\u001b[39m if x[\u001b[39m\u001b[39m'\u001b[39m\u001b[39mproperties\u001b[39m\u001b[39m'\u001b[39m\u001b[39m][\u001b[39m\u001b[39m'\u001b[39m\u001b[39m_mean\u001b[39m\u001b[39m'\u001b[39m\u001b[39m] < 9.95 else \u001b[39m\u001b[39m'\u001b[39m\u001b[39m#E6F5FF\u001b[39m\u001b[39m'\u001b[39m\u001b[39m if 9.92<= x[\u001b[39m\u001b[39m'\u001b[39m\u001b[39mproperties\u001b[39m\u001b[39m'\u001b[39m\u001b[39m][\u001b[39m\u001b[39m'\u001b[39m\u001b[39m_mean\u001b[39m\u001b[39m'\u001b[39m\u001b[39m] < 10.95 else \u001b[39m\u001b[39m'\u001b[39m\u001b[39m#B2D4FF\u001b[39m\u001b[39m'\u001b[39m\u001b[39m if 10.95 <= x[\u001b[39m\u001b[39m'\u001b[39m\u001b[39mproperties\u001b[39m\u001b[39m'\u001b[39m\u001b[39m][\u001b[39m\u001b[39m'\u001b[39m\u001b[39m_mean\u001b[39m\u001b[39m'\u001b[39m\u001b[39m] < 11.97 else \u001b[39m\u001b[39m'\u001b[39m\u001b[39m#8A7FFF\u001b[39m\u001b[39m'\u001b[39m\u001b[39m if 11.97 <= x[\u001b[39m\u001b[39m'\u001b[39m\u001b[39mproperties\u001b[39m\u001b[39m'\u001b[39m\u001b[39m][\u001b[39m\u001b[39m'\u001b[39m\u001b[39m_mean\u001b[39m\u001b[39m'\u001b[39m\u001b[39m] < 13 else\u001b[39m\u001b[39m'\u001b[39m\u001b[39m#9370DB\u001b[39m\u001b[39m'\u001b[39m\u001b[39m if 13.00 <= x[\u001b[39m\u001b[39m'\u001b[39m\u001b[39mproperties\u001b[39m\u001b[39m'\u001b[39m\u001b[39m][\u001b[39m\u001b[39m'\u001b[39m\u001b[39m_mean\u001b[39m\u001b[39m'\u001b[39m\u001b[39m] < 14.02 else\u001b[39m\u001b[39m'\u001b[39m\u001b[39m#660099\u001b[39m\u001b[39m'\u001b[39m\u001b[39m, \u001b[39m\u001b[39m'\u001b[39m\u001b[39mcolor\u001b[39m\u001b[39m'\u001b[39m\u001b[39m:\u001b[39m\u001b[39m'\u001b[39m\u001b[39mwhite\u001b[39m\u001b[39m'\u001b[39m\u001b[39m, \u001b[39m\u001b[39m'\u001b[39m\u001b[39mweight\u001b[39m\u001b[39m'\u001b[39m\u001b[39m:1, \u001b[39m\u001b[39m'\u001b[39m\u001b[39mfillOpacity\u001b[39m\u001b[39m'\u001b[39m\u001b[39m: \u001b[39m\u001b[39m'\u001b[39m\u001b[39m0.7\u001b[39m\u001b[39m'\u001b[39m\u001b[39m}\u001b[39m\u001b[39m\"\u001b[39m\n\u001b[1;32m---> 24\u001b[0m extract_colors_and_thresholds(a)\n",
      "Cell \u001b[1;32mIn [25], line 18\u001b[0m, in \u001b[0;36mextract_colors_and_thresholds\u001b[1;34m(function)\u001b[0m\n\u001b[0;32m     16\u001b[0m         colors\u001b[39m.\u001b[39mappend(color)\n\u001b[0;32m     17\u001b[0m     \u001b[39melse\u001b[39;00m:\n\u001b[1;32m---> 18\u001b[0m         thresholds\u001b[39m.\u001b[39mappend(\u001b[39mfloat\u001b[39;49m(match))\n\u001b[0;32m     20\u001b[0m \u001b[39mreturn\u001b[39;00m colors, thresholds\n",
      "\u001b[1;31mValueError\u001b[0m: could not convert string to float: 'E6F5FF'"
     ]
    }
   ],
   "source": [
    "import re\n",
    "\n",
    "def extract_colors_and_thresholds(function):\n",
    "    colors = []\n",
    "    thresholds = []\n",
    "\n",
    "    # Extracting colors and thresholds using regular expressions\n",
    "    pattern = r\"#([A-Fa-f0-9]{6})\"  # Matches hex color codes\n",
    "    matches = re.findall(pattern, function)\n",
    "    print(matches)\n",
    "\n",
    "    for i, match in enumerate(matches):\n",
    "        print(i,match)\n",
    "        if i % 2 == 0:\n",
    "            color=f\"#{match}\"\n",
    "            colors.append(color)\n",
    "        else:\n",
    "            thresholds.append(float(match))\n",
    "\n",
    "    return colors, thresholds\n",
    "\n",
    "a=\"color_pm25 = lambda x: {'fillColor': '#FFFFFF' if x['properties']['_mean'] < 9.95 else '#E6F5FF' if 9.92<= x['properties']['_mean'] < 10.95 else '#B2D4FF' if 10.95 <= x['properties']['_mean'] < 11.97 else '#8A7FFF' if 11.97 <= x['properties']['_mean'] < 13 else'#9370DB' if 13.00 <= x['properties']['_mean'] < 14.02 else'#660099', 'color':'white', 'weight':1, 'fillOpacity': '0.7'}\"\n",
    "\n",
    "extract_colors_and_thresholds(a)\n"
   ]
  },
  {
   "cell_type": "code",
   "execution_count": 22,
   "metadata": {},
   "outputs": [],
   "source": [
    "import re\n",
    "import mysql.connector\n",
    "def extract_colors_and_numbers(city,layername,caption,function):\n",
    "    colors = []\n",
    "    numbers = []\n",
    "\n",
    "    # Extracting colors and numbers using regular expressions\n",
    "    color_pattern = r\"#([A-Fa-f0-9]{6})\"  # Matches hex color codes\n",
    "    number_pattern = r\"\\b\\d+(?:\\.\\d+)?\\b\"  # Matches numbers\n",
    "\n",
    "    color_matches = re.findall(color_pattern, function)\n",
    "    number_matches = re.findall(number_pattern, function)\n",
    "\n",
    "    for i, match in enumerate(color_matches):\n",
    "        color=f\"#{match}\"\n",
    "        colors.append(color)\n",
    "\n",
    "    for match in number_matches:\n",
    "        if match not in color_matches:\n",
    "          numbers.append(float(match))\n",
    "    str_colors=str(colors)\n",
    "    str_colors=str_colors.replace(\"'\",\"\")\n",
    "    \n",
    "    indexes=numbers\n",
    "    vmin=numbers[0]\n",
    "    vmax=numbers[len(numbers)-1]\n",
    "    db=mysql.connector.connect(\n",
    "    host=\"climateflux.com\",\n",
    "    user=\"bishoykaleny\",\n",
    "    passwd=\"01280408351\",\n",
    "    database=\"emocities\"\n",
    "    )\n",
    "    mycursor=db.cursor()\n",
    "  \n",
    "    #mycursor.execute(f\"INSERT INTO metadata_emotics (LayerName, Thresholds, Colors, Indexes, Vmin, Vmax, City, Caption) VALUES ('{layername}', '{numbers}', '{colors}', '{indexes}', {vmin}, {vmax}, 'London', '{caption}')\")\n",
    "    mycursor.execute(f\"INSERT INTO metadata_emotics (LayerName, Thresholds, Colors, Indexes, Vmin, Vmax, City, Caption) VALUES ('{layername}', '{numbers}', '{str_colors}', '{indexes}', {vmin}, {vmax}, '{city}', '{caption}')\")\n",
    "\n",
    "    #mycursor.execute(f\"INSERT INTO metadata_emotics (LayerName, Thresholds, Colors, Indexes, Vmin, Vmax, City, Caption) VALUES ('{layername}', '{numbers}', '{colors}', '{indexes}', {vmin}, {vmax}, 'London', '{caption}')\")\n",
    "    #mycursor.execute(f\"INSERT INTO metadata_emotics (LayerName, Thresholds, Colors, Indexes, Vmin, Vmax, City, Caption)VALUES ('{layername}', '{numbers}', '{colors}', '{indexes}', {vmin}, {vmax}, 'London', '{caption}')\")\n",
    "    db.commit()\n",
    "\n",
    "    return str_colors, numbers,indexes,vmin,vmax\n",
    "\n",
    "\n",
    "# function_str = \"color_pm25 = lambda x: { 'fillColor': '#FFFFFF' if x['properties']['_mean'] < 9.95 else '#E6F5FF' if 9.92<= x['properties']['_mean'] < 10.95 else '#B2D4FF' if 10.95 <= x['properties']['_mean'] < 11.97 else '#8A7FFF' if 11.97 <= x['properties']['_mean'] < 13 else '#9370DB' if 13.00 <= x['properties']['_mean'] < 14.02 else '#660099', 'color':'white', 'weight':1, 'fillOpacity': '0.7'}\"\n",
    "\n",
    "# # Extract colors and numbers\n",
    "#str_colors, numbers,indexes,vmin,vmax = extract_colors_and_numbers(\"hex350_grid_ndvi2022\",\"Normalized difference vegetation index (NDVI)\",\"color_ndvi = lambda x: {'fillColor': '#FFFFFF' if x['properties']['_mean'] < 0.1 else '#A2FF9E' if 0.1 <= x['properties']['_mean'] < 0.2 else '#60C957' if 0.2 <= x['properties']['_mean'] < 0.4 else '#008000'if 0.4 <= x['properties']['_mean'] < 0.6 else'#004D00','color':'white', 'weight':1, 'fillOpacity': '0.7'}\")\n",
    "\n",
    "\n",
    "# print(\"Colors:\", colors)\n",
    "# print(\"Numbers:\", numbers)\n",
    "# print(indexes)\n",
    "# print(vmin)\n",
    "# print(vmax)"
   ]
  },
  {
   "cell_type": "code",
   "execution_count": 23,
   "metadata": {},
   "outputs": [
    {
     "data": {
      "text/plain": [
       "('[#FFFFFF, #FFFFE0, #FFD39B, #FF7F50, #FF6347, #800080, #6A0DAD, #371F8F, #6495ED, #000033, #000000]',\n",
       " [1.0,\n",
       "  1.0,\n",
       "  11.0,\n",
       "  11.0,\n",
       "  21.0,\n",
       "  21.0,\n",
       "  31.0,\n",
       "  31.0,\n",
       "  41.0,\n",
       "  41.0,\n",
       "  51.0,\n",
       "  51.0,\n",
       "  61.0,\n",
       "  61.0,\n",
       "  71.0,\n",
       "  71.0,\n",
       "  81.0,\n",
       "  81.0,\n",
       "  91.0,\n",
       "  1.0,\n",
       "  0.7],\n",
       " [1.0,\n",
       "  1.0,\n",
       "  11.0,\n",
       "  11.0,\n",
       "  21.0,\n",
       "  21.0,\n",
       "  31.0,\n",
       "  31.0,\n",
       "  41.0,\n",
       "  41.0,\n",
       "  51.0,\n",
       "  51.0,\n",
       "  61.0,\n",
       "  61.0,\n",
       "  71.0,\n",
       "  71.0,\n",
       "  81.0,\n",
       "  81.0,\n",
       "  91.0,\n",
       "  1.0,\n",
       "  0.7],\n",
       " 1.0,\n",
       " 0.7)"
      ]
     },
     "execution_count": 23,
     "metadata": {},
     "output_type": "execute_result"
    }
   ],
   "source": [
    "extract_colors_and_numbers(\"London\",\"hex350_grid_ndvi2022\",\"Normalized difference vegetation index (NDVI)\",\"color_ndvi = lambda x: {'fillColor': '#FFFFFF' if x['properties']['_mean'] < 0.1 else '#A2FF9E' if 0.1 <= x['properties']['_mean'] < 0.2 else '#60C957' if 0.2 <= x['properties']['_mean'] < 0.4 else '#008000'if 0.4 <= x['properties']['_mean'] < 0.6 else'#004D00','color':'white', 'weight':1, 'fillOpacity': '0.7'}\")\n",
    "extract_colors_and_numbers(\"London\",\"hex350_grid_pm25_2019\",\"Annual mean PM2.5 based on output areas average concentrations\",\"color_pm25 = lambda x: {'fillColor': '#FFFFFF' if x['properties']['_mean'] < 9.95 else '#E6F5FF' if 9.92<= x['properties']['_mean'] < 10.95 else '#B2D4FF' if 10.95 <= x['properties']['_mean'] < 11.97 else '#8A7FFF' if 11.97 <= x['properties']['_mean'] < 13 else'#9370DB' if 13.00 <= x['properties']['_mean'] < 14.02 else'#660099', 'color':'white', 'weight':1, 'fillOpacity': '0.7'}\")\n",
    "extract_colors_and_numbers(\"London\",\"hex350_grid_pm10_2019\",\"Annual mean PM10 based on output areas average concentrations\",\"color_pm10 = lambda x: {'fillColor': '#FFFFFF' if x['properties']['_mean'] < 2.71 else '#E6F5FF' if 2.71 <= x['properties']['_mean'] < 9.21 else'#B2D4FF' if 9.21 <= x['properties']['_mean'] < 15.70 else'#8A7FFF' if 15.70 <= x['properties']['_mean'] < 22.20 else '#9370DB' if 22.20 <= x['properties']['_mean'] < 28.70 else'#660099', 'color':'white', 'weight':1, 'fillOpacity': '0.7'}\")\n",
    "extract_colors_and_numbers(\"London\",\"hex350_grid_no2_2019\",\"Annual mean NO2 concentrations\",\"color_no2 = lambda x: {'fillColor': '#FFFFFF' if x['properties']['_mean'] < 20 else '#E6F5FF' if 20<= x['properties']['_mean'] < 25 else '#B2D4FF' if 25 <= x['properties']['_mean'] < 30 else '#8A7FFF' if 30 <= x['properties']['_mean'] < 35 else'#9370DB' if 35 <= x['properties']['_mean'] < 40 else'#660099', 'color':'white', 'weight':1, 'fillOpacity': '0.7'}\")\n",
    "extract_colors_and_numbers(\"London\",\"hex350_grid_laeq16h\",\"Annual average noise levels of rail noise\",\"color_noise = lambda x: {'fillColor': '#FFFFFF' if x['properties']['_mean'] is not None and x['properties']['_mean'] < 55 else'#FFFFCC' if x['properties']['_mean'] is not None and 55 <= x['properties']['_mean'] < 60 else'#FFCC99' if x['properties']['_mean'] is not None and 60 <= x['properties']['_mean'] < 65 else'#FF9933' if x['properties']['_mean'] is not None and 65 <= x['properties']['_mean'] < 70 else'#FF6633' if x['properties']['_mean'] is not None else None,'color': 'white','weight': 1,'fillOpacity': '0.7'}\")\n",
    "extract_colors_and_numbers(\"London\",\"hex350_grid_avglst\",\"Major summer heat spots\",\"color_heat = lambda x: {'fillColor': '#FFFFFF' if x['properties']['_mean'] is not None and x['properties']['_mean'] < 24.16 else'#0066CC' if x['properties']['_mean'] is not None and 24.16 <= x['properties']['_mean'] < 26.68 else'#ADD8E6' if x['properties']['_mean'] is not None and 26.68 <= x['properties']['_mean'] < 29.20 else '#FFFF99' if x['properties']['_mean'] is not None and 29.20 <= x['properties']['_mean'] < 31.72 else'#FFA500' if x['properties']['_mean'] is not None and 31.72 <= x['properties']['_mean'] < 34.24 else'#FF0000', 'color':'white', 'weight':1, 'fillOpacity': '0.7'}\")\n",
    "extract_colors_and_numbers(\"London\",\"hex350_grid_cycleroutes2021\",\"Cycling routes density map\",\"color_cycling = lambda x: {'fillColor': '#FFFFFF' if x['properties']['_mean'] is not None and x['properties']['_mean'] < 294.6 else'#FFF5F5' if x['properties']['_mean'] is not None and 294.6  <= x['properties']['_mean'] < 683.9 else'#ADD8E6' if x['properties']['_mean'] is not None and 683.9  <= x['properties']['_mean'] < 1073.3 else '#66A3FF' if x['properties']['_mean'] is not None and 1073.3 <= x['properties']['_mean'] < 1462.6 else'#00BFA5' if x['properties']['_mean'] is not None and 1462.6 <= x['properties']['_mean'] < 1852 else'#008080' if x['properties']['_mean'] is not None and 1852   <= x['properties']['_mean'] < 2241.4 else'#004D00', 'color':'white', 'weight':1, 'fillOpacity': '0.7'}\")\n",
    "extract_colors_and_numbers(\"London\",\"hex350_grid_hindex2020\",\"Land use diversity\",\"color_landuse = lambda x: {'fillColor': '#FFFFFF' if x['properties']['_mean'] is not None and x['properties']['_mean'] < 1.82 else'#FFFFCC' if x['properties']['_mean'] is not None and 1.82 <= x['properties']['_mean'] < 1.88 else'#FFCC99' if x['properties']['_mean'] is not None and 1.88 <= x['properties']['_mean'] < 1.95 else '#FFA500' if x['properties']['_mean'] is not None and 1.95 <= x['properties']['_mean'] < 2.01 else'#FF6347' if x['properties']['_mean'] is not None and 2.01 <= x['properties']['_mean'] < 2.08 else'#8B0000', 'color':'white', 'weight':1, 'fillOpacity': '0.7'}\")\n",
    "extract_colors_and_numbers(\"London\",\"hex350_grid_access2openspace\",\"Proportion of population with access to public open space\",\"color_public = lambda x: {'fillColor': '#FFFF99' if x['properties']['green_infrastructure_metric_table metric_table_cln_composite_score_prop'] is not None and 0 <= x['properties']['green_infrastructure_metric_table metric_table_cln_composite_score_prop'] < 0.20 else'#90EE90' if x['properties']['green_infrastructure_metric_table metric_table_cln_composite_score_prop'] is not None and 0.20 <= x['properties']['green_infrastructure_metric_table metric_table_cln_composite_score_prop'] < 0.40 else '#7FFF00' if x['properties']['green_infrastructure_metric_table metric_table_cln_composite_score_prop'] is not None and 0.40 <= x['properties']['green_infrastructure_metric_table metric_table_cln_composite_score_prop'] < 0.60 else'#008000' if x['properties']['green_infrastructure_metric_table metric_table_cln_composite_score_prop'] is not None and 0.60 <= x['properties']['green_infrastructure_metric_table metric_table_cln_composite_score_prop'] < 0.80 else'#003300', 'color':'white', 'weight':1, 'fillOpacity': '0.7'}\")\n",
    "extract_colors_and_numbers(\"London\",\"hex350_grid_cardio_1920\",\"Prevalence rates of cardiovascular diseases\",\"color_cardio = lambda x: {'fillColor': '#FFFFFF' if x['properties']['wprev_mean'] is not None and x['properties']['wprev_mean'] < 0.1573 else'#FFFF99' if x['properties']['wprev_mean'] is not None and 0.1573 <= x['properties']['wprev_mean'] < 0.8264 else'#FF6347' if x['properties']['wprev_mean'] is not None and 0.8264 <= x['properties']['wprev_mean'] < 1.4956 else '#AA33AA' if x['properties']['wprev_mean'] is not None and 1.4956 <= x['properties']['wprev_mean'] < 2.1648 else'#4B0082' if x['properties']['wprev_mean'] is not None and 2.1648 <= x['properties']['wprev_mean'] < 2.8339 else'#000000', 'color':'white', 'weight':1, 'fillOpacity': '0.7'}\")\n",
    "extract_colors_and_numbers(\"London\",\"hex350_grid_obesity_1920\",\"Prevalence rates of obesity\",\"color_obesity = lambda x: {'fillColor': '#FFFFFF' if x['properties']['wprev_mean'] is not None and x['properties']['wprev_mean'] < 1.1 else'#FFFF99' if x['properties']['wprev_mean'] is not None and 1.1 <= x['properties']['wprev_mean'] < 4.3 else'#FF6347' if x['properties']['wprev_mean'] is not None and 4.3 <= x['properties']['wprev_mean'] < 7.5 else '#AA33AA' if x['properties']['wprev_mean'] is not None and 7.5 <= x['properties']['wprev_mean'] < 10.7 else'#4B0082' if x['properties']['wprev_mean'] is not None and 10.7 <= x['properties']['wprev_mean'] < 14 else'#000000', 'color':'white', 'weight':1, 'fillOpacity': '0.7'} \")\n",
    "extract_colors_and_numbers(\"London\",\"hex350_grid_depression_1920\",\"Prevalence rates of depression\",\"color_depression = lambda x: {'fillColor': '#FFFFFF' if x['properties']['wprev_mean'] is not None and x['properties']['wprev_mean'] < 1.9 else'#CCFFCC' if x['properties']['wprev_mean'] is not None and 1.9 <= x['properties']['wprev_mean'] < 4.3 else'#20B2AA' if x['properties']['wprev_mean'] is not None and 4.3 <= x['properties']['wprev_mean'] < 6.7 else '#007F92' if x['properties']['wprev_mean'] is not None and 6.7 <= x['properties']['wprev_mean'] < 9.2 else'#20002C' if x['properties']['wprev_mean'] is not None and 9.2 <= x['properties']['wprev_mean'] < 11.6 else'#000000', 'color':'white', 'weight':1, 'fillOpacity': '0.7'}\" )\n",
    "extract_colors_and_numbers(\"London\",\"hex350_grid_mental_1920\",\"Prevalence rates of mental health issues\",\"color_mental = lambda x: {'fillColor': '#FFFFFF' if x['properties']['wprev_mean'] is not None and x['properties']['wprev_mean'] < 0.26 else'#CCFFCC' if x['properties']['wprev_mean'] is not None and 0.26 <= x['properties']['wprev_mean'] < 0.75 else'#20B2AA' if x['properties']['wprev_mean'] is not None and 0.75 <= x['properties']['wprev_mean'] < 1.23 else '#007F92' if x['properties']['wprev_mean'] is not None and 1.23 <= x['properties']['wprev_mean'] < 1.71 else'#20002C' if x['properties']['wprev_mean'] is not None and 1.71 <= x['properties']['wprev_mean'] < 2.2 else'#000000', 'color':'white', 'weight':1, 'fillOpacity': '0.7'}\")\n",
    "extract_colors_and_numbers(\"London\",\"hex350_grid_demantia_1920\",\"Prevalence rates of dementia\",\"color_dementia = lambda x: {'fillColor': '#FFFFFF' if x['properties']['wprev_mean'] is not None and x['properties']['wprev_mean'] < 0.06 else'#CCFFCC' if x['properties']['wprev_mean'] is not None and 0.06 <= x['properties']['wprev_mean'] < 0.53 else'#20B2AA' if x['properties']['wprev_mean'] is not None and 0.53 <= x['properties']['wprev_mean'] < 1 else '#007F92' if x['properties']['wprev_mean'] is not None and 1 <= x['properties']['wprev_mean'] < 1.48 else'#20002C' if x['properties']['wprev_mean'] is not None and 1.48 <= x['properties']['wprev_mean'] < 1.95 else'#000000', 'color':'white', 'weight':1, 'fillOpacity': '0.7'}\")\n",
    "extract_colors_and_numbers(\"London\",\"hex350_grid_popden_2020\",\"Population density map\",\"color_pop = lambda x: {'fillColor': '#FFFFFF' if x['properties']['_mean'] is not None and x['properties']['_mean'] < 439 else'#FFFF99' if x['properties']['_mean'] is not None and 439 <= x['properties']['_mean'] < 14016 else'#FF6347' if x['properties']['_mean'] is not None and 14016 <= x['properties']['_mean'] < 27592 else '#AA33AA' if x['properties']['_mean'] is not None and 27592 <= x['properties']['_mean'] < 41169 else'#4B0082' if x['properties']['_mean'] is not None and 41169 <= x['properties']['_mean'] < 54745 else'#000000', 'color':'white', 'weight':1, 'fillOpacity': '0.7'} \")\n",
    "extract_colors_and_numbers(\"London\",\"hex350_grid_gender2020\",\"Gender ratio map\",\"color_male =  lambda x: {'fillColor': '#FFFFFF' if x['properties']['_mean'] is not None and x['properties']['_mean'] < 73.68 else'#FF0000' if x['properties']['_mean'] is not None and 73.89 <= x['properties']['_mean'] < 82.45 else'#FF6666' if x['properties']['_mean'] is not None and 82.45 <= x['properties']['_mean'] < 91.23 else '#FFCCCC' if x['properties']['_mean'] is not None and 91.23 <= x['properties']['_mean'] < 100 else'#CCDDFF' if x['properties']['_mean'] is not None and 100 <= x['properties']['_mean'] < 108.77 else'#87CEEB' if x['properties']['_mean'] is not None and 108.77 <= x['properties']['_mean'] < 117.55 else'#0000CD', 'color':'white', 'weight':1, 'fillOpacity': '0.7'}\")\n",
    "extract_colors_and_numbers(\"London\",\"hex350_grid_age2020\",\"Map of the ratio of elder people\",\"color_elder = lambda x: {'fillColor': '#FFFFFF' if x['properties']['_mean'] is not None and x['properties']['_mean'] < 0.01 else'#FFFF99' if x['properties']['_mean'] is not None and 0.01 <= x['properties']['_mean'] < 0.09 else'#D2B48C' if x['properties']['_mean'] is not None and 0.09 <= x['properties']['_mean'] < 0.17 else '#808080' if x['properties']['_mean'] is not None and 0.17 <= x['properties']['_mean'] < 0.25 else'#36454F' if x['properties']['_mean'] is not None and 0.25 <= x['properties']['_mean'] < 0.33 else'#000022', 'color':'white', 'weight':1, 'fillOpacity': '0.7'}\")\n",
    "extract_colors_and_numbers(\"London\",\"hex350_grid_active2020\",\"Map of ratio of active people\",\"color_active = lambda x: {'fillColor': '#FFFFFF' if x['properties']['_mean'] is not None and x['properties']['_mean'] < 62.60 else'#F5F5F5' if x['properties']['_mean'] is not None and 62.60 <= x['properties']['_mean'] < 67.12 else'#BFEFFF' if x['properties']['_mean'] is not None and 67.12 <= x['properties']['_mean'] < 71.64 else '#87CEEB' if x['properties']['_mean'] is not None and 71.64 <= x['properties']['_mean'] < 76.16 else'#6495ED' if x['properties']['_mean'] is not None and 76.16 <= x['properties']['_mean'] < 80.68 else'#0000CD', 'color':'white', 'weight':1, 'fillOpacity': '0.7'}\")\n",
    "extract_colors_and_numbers(\"London\",\"hex350_grid_crime_22\",\"Map of number of recorded crimes\",\"color_crime = lambda x: {'fillColor': '#FFFFFF' if x['properties']['_mean'] is not None and x['properties']['_mean'] < 1 else'#FFFFE0' if x['properties']['_mean'] is not None and 1 <= x['properties']['_mean'] < 11 else'#FFD39B' if x['properties']['_mean'] is not None and 11 <= x['properties']['_mean'] < 21 else '#FF7F50' if x['properties']['_mean'] is not None and 21 <= x['properties']['_mean'] < 31 else'#FF6347' if x['properties']['_mean'] is not None and 31 <= x['properties']['_mean'] < 41 else'#800080' if x['properties']['_mean'] is not None and 41 <= x['properties']['_mean'] < 51 else'#6A0DAD' if x['properties']['_mean'] is not None and 51 <= x['properties']['_mean'] < 61 else'#371F8F' if x['properties']['_mean'] is not None and 61 <= x['properties']['_mean'] < 71 else'#6495ED' if x['properties']['_mean'] is not None and 71 <= x['properties']['_mean'] < 81 else'#000033' if x['properties']['_mean'] is not None and 81 <= x['properties']['_mean'] < 91 else'#000000', 'color':'white', 'weight':1, 'fillOpacity': '0.7'}\")\n"
   ]
  },
  {
   "cell_type": "code",
   "execution_count": 24,
   "metadata": {},
   "outputs": [
    {
     "data": {
      "text/plain": [
       "('[#FFFFFF, #FF0000, #00FF00, #0000FF, #FFFF00]',\n",
       " [0.0, 0.0, 25.0, 25.0, 50.0, 50.0, 75.0, 1.0, 0.7],\n",
       " [0.0, 0.0, 25.0, 25.0, 50.0, 50.0, 75.0, 1.0, 0.7],\n",
       " 0.0,\n",
       " 0.7)"
      ]
     },
     "execution_count": 24,
     "metadata": {},
     "output_type": "execute_result"
    }
   ],
   "source": [
    "extract_colors_and_numbers(\"Lisbon\",\"av_age_bui\",\"Average age of buildings\",\"color_av_age_bui = lambda x: {'fillColor': '#FFFFFF' if x['properties']['av_age_bui'] < 0 else '#FFFFCC' if 0 <= x['properties']['av_age_bui'] < 504.04 else '#FFCC99' if 504.04 <= x['properties']['av_age_bui'] < 1008.07 else '#FF9933' if 1008.07 <= x['properties']['av_age_bui'] < 1512.11 else'#FF6633', 'color': 'white', 'weight': 1, 'fillOpacity': 0.7}\")\n",
    "\n",
    "extract_colors_and_numbers(\"Lisbon\",\"build_repai\",\"Buildings with repair needs ratio\",\"color_repai = lambda x: {'fillColor': '#FFFFFF' if x['properties']['buil_repai'] < 0 else '#FFFFCC' if 0 <= x['properties']['buil_repai'] < 25 else '#FFCC99' if 25 <= x['properties']['buil_repai'] < 50 else '#FF9933' if 50 <= x['properties']['buil_repai'] < 75 else'#FF6633' , 'color':'white', 'weight':1, 'fillOpacity': '0.7'}\")\n",
    "\n",
    "extract_colors_and_numbers(\"Lisbon\",\"av_buil_he\",\"Average building heights\",\"color_av_build = lambda x: {'fillColor': '#FFFFFF' if x['properties']['av_buil_he'] < 0 else '#FFFFCC' if 0 <= x['properties']['av_buil_he'] < 11.56 else '#FFCC99' if 11.56 <= x['properties']['av_buil_he'] < 23.11 else '#FF9933' if 23.11 <= x['properties']['av_buil_he'] < 34.67 else'#FF6633' , 'color':'white', 'weight':1, 'fillOpacity': '0.7'}\")\n",
    "\n",
    "extract_colors_and_numbers(\"Lisbon\",\"buil_area_\",\"Building area ratio\",\"color_build_area = lambda x: {'fillColor': '#FFFFFF' if x['properties']['buil_area_'] < 0 else '#FFCC99' if 0 <= x['properties']['buil_area_'] < 24.42 else '#FF9933' if 24.42 <= x['properties']['buil_area_'] < 48.85 else '#CC6600' if 48.85 <= x['properties']['buil_area_'] < 73.27 else'#663300' , 'color':'white', 'weight':1, 'fillOpacity': '0.7'}\")\n",
    "\n",
    "extract_colors_and_numbers(\"Lisbon\",\"walkabilit\",\"Walkability index\",\"color_walk = lambda x: {'fillColor': '#FFFFFF' if x['properties']['walkabilit'] < -1.32 else '#FFA500' if -1.32 <= x['properties']['walkabilit'] < 0.04 else '#FFFF00' if 0.04 <= x['properties']['walkabilit'] < 1.40 else '#7FFF00' if 1.40 <= x['properties']['walkabilit'] < 2.76 else'#228B22' , 'color':'white', 'weight':1, 'fillOpacity': '0.7'}\")\n",
    "\n",
    "extract_colors_and_numbers(\"Lisbon\",\"altimetry\",\"Altimery\",\"color_altitude = lambda x: {'fillColor': '#FFFFFF' if x['properties']['altimetry'] < 0 else '#000000' if 0 <= x['properties']['altimetry'] < 53.60 else '#3366CC' if 53.60 <= x['properties']['altimetry'] < 107.20 else '#66CCFF' if 107.20 <= x['properties']['altimetry'] < 160.81 else'#99FFFF' , 'color':'white', 'weight':1, 'fillOpacity': '0.7'}\")\n",
    "\n",
    "extract_colors_and_numbers(\"Lisbon\",\"beds_tour_\",\"Beds/customers in tourist accomodations\",\"color_beds = lambda x: {'fillColor': '#FFFFFF' if x['properties']['beds_tour_'] < 3.85 else '#FFCC99' if 3.85 <= x['properties']['beds_tour_'] < 769.63 else '#FF9933' if 769.63 <= x['properties']['beds_tour_'] < 1535.40 else '#CC6600' if 1535.40 <= x['properties']['beds_tour_'] < 2301.18 else'#663300' , 'color':'white', 'weight':1, 'fillOpacity': '0.7'}\")\n",
    "\n",
    "extract_colors_and_numbers(\"Lisbon\",\"ff_out_den\",\"Density of fast food outlets\",\"color_ff = lambda x: {'fillColor': '#FFFFFF' if x['properties']['ff_out_den'] < 0 else '#FFCC99' if 0 <= x['properties']['ff_out_den'] < 1.42 else '#FF9933' if 1.42 <= x['properties']['ff_out_den'] < 2.85 else '#CC6600' if 2.85 <= x['properties']['ff_out_den'] < 4.27 else'#663300' , 'color':'white', 'weight':1, 'fillOpacity': '0.7'}\")\n",
    "\n",
    "extract_colors_and_numbers(\"Lisbon\",\"ndvi\",\"Normalized Difference Vegetation Index (NDVI)\",\"color_ndvi = lambda x: {'fillColor': '#FFFFFF' if x['properties']['ndvi'] < -0.50 else '#A2FF9E' if -0.50 <= x['properties']['ndvi'] < -0.17 else '#60C957' if -0.17 <= x['properties']['ndvi'] < 0.16 else '#008000'if 0.16 <= x['properties']['ndvi'] < 0.49 else'#004D00','color':'white', 'weight':1, 'fillOpacity': '0.7'}\")\n",
    "\n",
    "extract_colors_and_numbers(\"Lisbon\",\"gre_spa_po\",\"Green space area\",\"color_gre = lambda x: {'fillColor': '#FFFFFF' if x['properties']['gre_spa_po'] < 0 else '#A2FF9E' if 0 <= x['properties']['gre_spa_po'] < 5.73553209e+07 else '#60C957' if 5.73553209e+07 <= x['properties']['gre_spa_po'] < 1.14710642e+08 else '#008000'if 1.14710642e+08 <= x['properties']['gre_spa_po'] < 1.72065963e+08 else'#004D00','color':'white', 'weight':1, 'fillOpacity': '0.7'}\")\n",
    "\n",
    "extract_colors_and_numbers(\"Lisbon\",\"noise\",\"Noise level\",\"color_noise = lambda x: {'fillColor': '#FFFFFF' if x['properties']['noise'] is not None and x['properties']['noise'] < 43.57 else'#FFFFCC' if x['properties']['noise'] is not None and 43.57 <= x['properties']['noise'] < 55.53 else '#FFCC99' if x['properties']['noise'] is not None and 55.53 <= x['properties']['noise'] < 67.49 else'#FF9933' if x['properties']['noise'] is not None and 67.49 <= x['properties']['noise'] < 79.45 else'#FF6633' if x['properties']['noise'] is not None else None,'color': 'white','weight': 1,'fillOpacity': '0.7'}\")\n",
    "\n",
    "extract_colors_and_numbers(\"Lisbon\",\"pm25\",\"Particulate Matter (PM2.5)\",\"color_pm25 = lambda x: {'fillColor': '#FFFFFF' if x['properties']['pm25'] < 2.15 else '#E6F5FF' if 2.15 <= x['properties']['pm25'] < 5.32 else '#B2D4FF' if 5.32 <= x['properties']['pm25'] < 8.50 else '#8A7FFF' if 8.50 <= x['properties']['pm25'] < 11.68 else'#9370DB' , 'color':'white', 'weight':1, 'fillOpacity': '0.7'}\")\n",
    "\n",
    "extract_colors_and_numbers(\"Lisbon\",\"pm10\",\"Particulate Matter (PM10)\",\"color_pm10 = lambda x: {'fillColor': '#FFFFFF' if x['properties']['pm10'] is not None and x['properties']['pm10'] < 5.23 else '#E6F5FF' if x['properties']['pm10'] is not None and 5.23 <= x['properties']['pm10'] < 9.32 else'#B2D4FF' if x['properties']['pm10'] is not None and 9.32 <= x['properties']['pm10'] < 13.40 else'#8A7FFF' if x['properties']['pm10'] is not None and 13.40 <= x['properties']['pm10'] < 17.47 else'#9370DB', 'color':'white', 'weight':1, 'fillOpacity': '0.7'}\")\n",
    "\n",
    "extract_colors_and_numbers(\"Lisbon\",\"mean_temp\",\"Mean temperature\",\"color_temp = lambda x: {'fillColor': '#FFFFFF' if x['properties']['mean_temp'] < 21.09 else '#0066CC' if 21.09 <= x['properties']['mean_temp'] < 21.68 else '#66CCFF' if 21.68 <= x['properties']['mean_temp'] < 22.27 else '#FFCC00' if 22.27 <= x['properties']['mean_temp'] < 22.86 else'#FF6600' , 'color':'white', 'weight':1, 'fillOpacity': '0.7'}\")\n",
    "\n",
    "extract_colors_and_numbers(\"Lisbon\",\"ex_heat_vu\",\"Extreme heat vulnerability\",\"color_exheat = lambda x: {'fillColor': '#FFFFFF' if x['properties']['ex_heat_vu'] < 0.35 else '#FFA500' if 0.35 <= x['properties']['ex_heat_vu'] < 0.44 else '#FF8C00' if 0.44 <= x['properties']['ex_heat_vu'] < 0.54 else '#FF4500' if 0.54 <= x['properties']['ex_heat_vu'] < 0.63 else'#FF0000' , 'color':'white', 'weight':1, 'fillOpacity': '0.7'}\")\n",
    "\n",
    "extract_colors_and_numbers(\"Lisbon\",\"ffloods_vu\",\"Vulnerability to flash floods index\",\"color_floods = lambda x: {'fillColor': '#FFFFFF' if x['properties']['ffloods_vu'] < 0.19 else '#66FFFF' if 0.19 <= x['properties']['ffloods_vu'] < 0.27 else '#3366FF' if 0.27 <= x['properties']['ffloods_vu'] < 0.34 else '#0033CC' if 0.34 <= x['properties']['ffloods_vu'] < 0.41 else'#000066' , 'color':'white', 'weight':1, 'fillOpacity': '0.7'}\")\n",
    "\n",
    "extract_colors_and_numbers(\"Lisbon\",\"pur_power\",\"Purchasing power\",\"color_power = lambda x: {'fillColor': '#FFFFFF' if x['properties']['pur_power'] < 14348 else '#FFEDA0' if 14348 <= x['properties']['pur_power'] < 17848 else '#FED976' if 17848 <= x['properties']['pur_power'] < 21349 else '#FEB24C' if 21349 <= x['properties']['pur_power'] < 24849 else'#FD8D3C', 'color': 'white', 'weight': 1, 'fillOpacity': 0.7}\")\n",
    "\n",
    "extract_colors_and_numbers(\"Lisbon\",\"ppo_low_ed\",\"People with low education level ratio\",\"color_lowed = lambda x: {'fillColor': '#FFFFFF' if x['properties']['ppo_low_ed'] < 0 else '#E5E5E5' if 0 <= x['properties']['ppo_low_ed'] < 25 else '#CCCCCC' if 25 <= x['properties']['ppo_low_ed'] < 50 else '#999999' if 50 <= x['properties']['ppo_low_ed'] < 75 else'#666666', 'color': 'white', 'weight': 1, 'fillOpacity': 0.7}\")\n",
    "\n",
    "extract_colors_and_numbers(\"Lisbon\",\"ppop_unemp\",\"Unemployed people ratio\",\"color_unemp = lambda x: {'fillColor': '#FFFFFF' if x['properties']['ppop_unemp'] < 0 else '#E5E5E5' if 0 <= x['properties']['ppop_unemp'] < 25 else '#CCCCCC' if 25 <= x['properties']['ppop_unemp'] < 50 else '#999999' if 50 <= x['properties']['ppop_unemp'] < 75 else'#666666', 'color': 'white', 'weight': 1, 'fillOpacity': 0.7}\")\n",
    "\n",
    "extract_colors_and_numbers(\"Lisbon\",\"pop_densit\",\"Population density\",\"color_densit = lambda x: {'fillColor': '#FFFFFF' if x['properties']['pop_densit'] < 0 else '#FFFF99' if 0 <= x['properties']['pop_densit'] < 101.68 else '#FF6347' if 101.68 <= x['properties']['pop_densit'] < 203.36 else '#AA33AA' if 203.36 <= x['properties']['pop_densit'] < 305.04 else'#4B0082', 'color': 'white', 'weight': 1, 'fillOpacity': 0.7}\")\n",
    "\n",
    "extract_colors_and_numbers(\"Lisbon\",\"gender_rat\",\"Gender ratio\",\"color_gender = lambda x: {'fillColor': '#FFFFFF' if x['properties']['gender_rat'] < 0 else '#FF6666' if 0 <= x['properties']['gender_rat'] < 225 else '#FFCCCC' if 225 <= x['properties']['gender_rat'] < 450 else '#CCDDFF' if 450 <= x['properties']['gender_rat'] < 675 else'#87CEEB', 'color': 'white', 'weight': 1, 'fillOpacity': 0.7}\")\n",
    "\n",
    "extract_colors_and_numbers(\"Lisbon\",\"yt_peop_ra\",\"Youth people ratio\",\"color_yt = lambda x: {'fillColor': '#FFFFFF' if x['properties']['yt_peop_ra'] < 0 else '#FFEDA0' if 0 <= x['properties']['yt_peop_ra'] < 25 else '#FFC100' if 25 <= x['properties']['yt_peop_ra'] < 50 else '#FF8400' if 50 <= x['properties']['yt_peop_ra'] < 75 else'#FF4500', 'color': 'white', 'weight': 1, 'fillOpacity': 0.7}\")\n",
    "\n",
    "extract_colors_and_numbers(\"Lisbon\",\"ed_peop_ra\",\"Elderly people ratio\",\"color_ed = lambda x: {'fillColor': '#FFFFFF' if x['properties']['ed_peop_ra'] < 0 else '#FF0000' if 0 <= x['properties']['ed_peop_ra'] < 25 else '#00FF00' if 25 <= x['properties']['ed_peop_ra'] < 50 else '#0000FF' if 50 <= x['properties']['ed_peop_ra'] < 75 else'#FFFF00', 'color': 'white', 'weight': 1, 'fillOpacity': 0.7}\")\n",
    "\n"
   ]
  },
  {
   "cell_type": "code",
   "execution_count": 40,
   "metadata": {},
   "outputs": [
    {
     "name": "stdout",
     "output_type": "stream",
     "text": [
      "New Lambda Function:\n"
     ]
    },
    {
     "ename": "SyntaxError",
     "evalue": "invalid syntax (<string>, line 1)",
     "output_type": "error",
     "traceback": [
      "Traceback \u001b[1;36m(most recent call last)\u001b[0m:\n",
      "\u001b[0m  File \u001b[0;32m~\\AppData\\Local\\Packages\\PythonSoftwareFoundation.Python.3.10_qbz5n2kfra8p0\\LocalCache\\local-packages\\Python310\\site-packages\\IPython\\core\\interactiveshell.py:3378\u001b[0m in \u001b[0;35mrun_code\u001b[0m\n    exec(code_obj, self.user_global_ns, self.user_ns)\u001b[0m\n",
      "\u001b[1;36m  Cell \u001b[1;32mIn [40], line 24\u001b[1;36m\n\u001b[1;33m    print(eval(new_lambda_function))\u001b[1;36m\n",
      "\u001b[1;36m  File \u001b[1;32m<string>:1\u001b[1;36m\u001b[0m\n\u001b[1;33m    lambda_func = lambda x: { 'fillColor': '#FFFFFF' if 9.95 <= x['properties']['_mean'] < 9.92 else '#E6F5FF' if 9.92 <= x['properties']['_mean'] < 10.95 else '#B2D4FF' if 10.95 <= x['properties']['_mean'] < 11.97 else '#8A7FFF' if 11.97 <= x['properties']['_mean'] < 13.0 else '#9370DB' if 13.0 <= x['properties']['_mean'] < 14.02 else '#660099' if 14.02 <= x['properties']['_mean'], 'color':'white', 'weight':1, 'fillOpacity': '0.7'}\u001b[0m\n\u001b[1;37m                ^\u001b[0m\n\u001b[1;31mSyntaxError\u001b[0m\u001b[1;31m:\u001b[0m invalid syntax\n"
     ]
    }
   ],
   "source": [
    "def create_new_lambda_function(colors, thresholds):\n",
    "    function_str = \"lambda_func = lambda x: { 'fillColor': \"\n",
    "    conditions = []\n",
    "\n",
    "    for i, (color, threshold) in enumerate(zip(colors, thresholds)):\n",
    "        condition = f\"'{color}' if {threshold} <= x['properties']['_mean']\"\n",
    "        if i < len(colors) - 1:\n",
    "            condition += f\" < {thresholds[i + 1]}\"\n",
    "        conditions.append(condition)\n",
    "\n",
    "    function_str += \" else \".join(conditions)\n",
    "    function_str += \", 'color':'white', 'weight':1, 'fillOpacity': '0.7'}\"\n",
    "\n",
    "    return function_str\n",
    "\n",
    "# Example usage:\n",
    "colors = ['#FFFFFF', '#E6F5FF', '#B2D4FF', '#8A7FFF', '#9370DB', '#660099']\n",
    "thresholds = [9.95, 9.92, 10.95, 11.97, 13.0, 14.02]\n",
    "\n",
    "new_lambda_function = create_new_lambda_function(colors, thresholds)\n",
    "#y=lambda x: { 'fillColor': '#FFFFFF' if 9.95 <= x['properties']['_mean'] < 9.92 else '#E6F5FF' if 9.92 <= x['properties']['_mean'] < 10.95 else '#B2D4FF' if 10.95 <= x['properties']['_mean'] < 11.97 else '#8A7FFF' if 11.97 <= x['properties']['_mean'] < 13.0 else '#9370DB' if 13.0 <= x['properties']['_mean'] < 14.02 else '#660099' if 14.02 <= x['properties']['_mean'], 'color':'white', 'weight':1, 'fillOpacity': '0.7'}\n",
    "#print(y)\n",
    "print(\"New Lambda Function:\")\n",
    "print(eval(new_lambda_function))\n"
   ]
  },
  {
   "cell_type": "code",
   "execution_count": null,
   "metadata": {},
   "outputs": [],
   "source": [
    "def color_layer(x, thresholds, colors):\n",
    "    for i in range(len(thresholds)):\n",
    "        if i == 0 and x['properties']['_mean'] < thresholds[i]:\n",
    "            return colors[i]\n",
    "        elif thresholds[i-1] <= x['properties']['_mean'] < thresholds[i]:\n",
    "            return colors[i]\n",
    "            \n",
    "    return colors[-1]"
   ]
  },
  {
   "cell_type": "code",
   "execution_count": null,
   "metadata": {},
   "outputs": [],
   "source": [
    "lambda x:{'fillcolor':color_layer(x,)}"
   ]
  }
 ],
 "metadata": {
  "kernelspec": {
   "display_name": "Python 3",
   "language": "python",
   "name": "python3"
  },
  "language_info": {
   "codemirror_mode": {
    "name": "ipython",
    "version": 3
   },
   "file_extension": ".py",
   "mimetype": "text/x-python",
   "name": "python",
   "nbconvert_exporter": "python",
   "pygments_lexer": "ipython3",
   "version": "3.10.11"
  },
  "orig_nbformat": 4,
  "vscode": {
   "interpreter": {
    "hash": "f98e3a756d7c9e33dddd42b87dd44f7b31e1b0345fcacd837187a0807495f9ae"
   }
  }
 },
 "nbformat": 4,
 "nbformat_minor": 2
}
